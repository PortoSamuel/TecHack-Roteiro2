{
 "cells": [
  {
   "cell_type": "code",
   "execution_count": 19,
   "id": "935245e2",
   "metadata": {},
   "outputs": [],
   "source": [
    "import socket"
   ]
  },
  {
   "cell_type": "code",
   "execution_count": 20,
   "id": "094eb18d",
   "metadata": {},
   "outputs": [],
   "source": [
    "def scan_ip_ports(ip_target, ports = [p for p in range(1, 65535)]):\n",
    "    open_ports = []\n",
    "    \n",
    "    for porta in ports:\n",
    "        client = socket.socket()\n",
    "        client.settimeout(0.05)\n",
    "        \n",
    "        if client.connect_ex((ip_target, porta)) == 0:\n",
    "            open_ports.append(porta)\n",
    "            \n",
    "    return open_ports"
   ]
  },
  {
   "cell_type": "code",
   "execution_count": 21,
   "id": "4fa30e63",
   "metadata": {},
   "outputs": [
    {
     "name": "stdout",
     "output_type": "stream",
     "text": [
      "Porta 21 ===> Aberta\n",
      "\n",
      "Porta 22 ===> Aberta\n",
      "\n",
      "Porta 23 ===> Aberta\n",
      "\n",
      "Porta 25 ===> Aberta\n",
      "\n",
      "Porta 53 ===> Aberta\n",
      "\n",
      "Porta 80 ===> Aberta\n",
      "\n",
      "Porta 111 ===> Aberta\n",
      "\n",
      "Porta 139 ===> Aberta\n",
      "\n",
      "Porta 445 ===> Aberta\n",
      "\n",
      "Porta 512 ===> Aberta\n",
      "\n",
      "Porta 513 ===> Aberta\n",
      "\n",
      "Porta 514 ===> Aberta\n",
      "\n"
     ]
    }
   ],
   "source": [
    "target = '192.168.56.101'\n",
    "\n",
    "portas = [p for p in range(1,1000)]\n",
    "\n",
    "portas_abertas = scan_ip_ports(target,portas)\n",
    "\n",
    "for e in portas_abertas:\n",
    "    print(f\"Porta {e} ===> Aberta\\n\")"
   ]
  },
  {
   "cell_type": "code",
   "execution_count": null,
   "id": "d62c3ca2",
   "metadata": {},
   "outputs": [],
   "source": []
  }
 ],
 "metadata": {
  "kernelspec": {
   "display_name": "Python 3 (ipykernel)",
   "language": "python",
   "name": "python3"
  },
  "language_info": {
   "codemirror_mode": {
    "name": "ipython",
    "version": 3
   },
   "file_extension": ".py",
   "mimetype": "text/x-python",
   "name": "python",
   "nbconvert_exporter": "python",
   "pygments_lexer": "ipython3",
   "version": "3.9.7"
  }
 },
 "nbformat": 4,
 "nbformat_minor": 5
}
